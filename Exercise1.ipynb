{
  "cells": [
    {
      "cell_type": "markdown",
      "metadata": {
        "id": "view-in-github",
        "colab_type": "text"
      },
      "source": [
        "<a href=\"https://colab.research.google.com/github/angelalala01/CCDATRCL_ASSIGNMENT_COM222/blob/main/Exercise1.ipynb\" target=\"_parent\"><img src=\"https://colab.research.google.com/assets/colab-badge.svg\" alt=\"Open In Colab\"/></a>"
      ]
    },
    {
      "cell_type": "markdown",
      "metadata": {
        "id": "h2vFiYhGzZOg"
      },
      "source": [
        "# Exercise 1"
      ]
    },
    {
      "cell_type": "markdown",
      "source": [
        "## Class Initialization"
      ],
      "metadata": {
        "id": "sRm6kPQozcaU"
      }
    },
    {
      "cell_type": "code",
      "execution_count": null,
      "metadata": {
        "id": "b1u4Dt9mzZOi"
      },
      "outputs": [],
      "source": [
        "class Node:\n",
        "    def __init__(self, data):\n",
        "        self.data = data\n",
        "        self.next = None\n",
        "        self.prev = None"
      ]
    },
    {
      "cell_type": "code",
      "execution_count": null,
      "metadata": {
        "id": "tigvHSaHzZOj"
      },
      "outputs": [],
      "source": [
        "class LinkedList:\n",
        "\n",
        "    def __init__(self):\n",
        "        self.head = None\n",
        "\n",
        "    def traverse(self, node):\n",
        "        while node:\n",
        "            print(node.data, end=\" -> \")\n",
        "            node = node.next"
      ]
    },
    {
      "cell_type": "code",
      "execution_count": null,
      "metadata": {
        "id": "LIkQBioVzZOk"
      },
      "outputs": [],
      "source": [
        "class DoublyLinkedList:\n",
        "\n",
        "    def __init__(self):\n",
        "        self.head = None\n",
        "\n",
        "    def traverse(self, node):\n",
        "        while node:\n",
        "            print(node.data, end=\" -> \")\n",
        "            node = node.next"
      ]
    },
    {
      "cell_type": "code",
      "execution_count": null,
      "metadata": {
        "id": "zlxNT5EozZOl"
      },
      "outputs": [],
      "source": [
        "class CircularLinkedList:\n",
        "\n",
        "    def __init__(self):\n",
        "        self.head = None\n",
        "\n",
        "    def traverse(self, node):\n",
        "\n",
        "        head = node\n",
        "\n",
        "        while node:\n",
        "            print(node.data, end=\" -> \")\n",
        "            node = node.next\n",
        "\n",
        "            # Break to prevent infinite loop\n",
        "            if node == head:\n",
        "                break"
      ]
    },
    {
      "cell_type": "markdown",
      "metadata": {
        "id": "O68-Q1-bzZOl"
      },
      "source": [
        "#### 1. Create a Singly Linked list\n",
        "\n",
        "- Each node should contain your name and your seatmates in your row\n",
        "- Create at least 5 nodes\n",
        "- Traverse all nodes"
      ]
    },
    {
      "cell_type": "code",
      "execution_count": null,
      "metadata": {
        "id": "pTcx_OuPzZOl",
        "colab": {
          "base_uri": "https://localhost:8080/"
        },
        "outputId": "2de7a568-3e08-4954-aeb3-a05ac8cbdd0a"
      },
      "outputs": [
        {
          "output_type": "stream",
          "name": "stdout",
          "text": [
            "Manalo -> Manjares -> Maravilla -> Marcial -> Montaño -> "
          ]
        }
      ],
      "source": [
        "# put your code here\n",
        "\n",
        "#Create a Node Class\n",
        "class Node:\n",
        "\n",
        "    def __init__(self, data):\n",
        "        self.data = data\n",
        "        self.next = None # null\n",
        "\n",
        "#Create a LinkedList Class\n",
        "class LinkedList:\n",
        "\n",
        "    def __init__(self):\n",
        "        self.head = None\n",
        "\n",
        "    def traverse(self, node):\n",
        "        while node:\n",
        "            print(node.data, end=\" -> \")\n",
        "            node = node.next\n",
        "#Creating new instance of the LinkedList class\n",
        "linked_list = LinkedList()\n",
        "\n",
        "linked_list.head = Node ('Manalo')\n",
        "node_b = Node ('Manjares')\n",
        "node_c = Node ('Maravilla')\n",
        "node_d = Node ('Marcial')\n",
        "node_e = Node ('Montaño')\n",
        "\n",
        "linked_list.head.next = node_b\n",
        "node_b.next = node_c\n",
        "node_c.next = node_d\n",
        "node_d.next = node_e\n",
        "\n",
        "#Diplay all elements\n",
        "linked_list.traverse(linked_list.head)"
      ]
    },
    {
      "cell_type": "markdown",
      "metadata": {
        "id": "IFgwbdw_zZOm"
      },
      "source": [
        "#### 2. Create a Doubly Linked list\n",
        "\n",
        "- Each node should contain your name and your seatmates in your row\n",
        "- Create at least 5 nodes\n",
        "- Traverse all nodes"
      ]
    },
    {
      "cell_type": "code",
      "execution_count": null,
      "metadata": {
        "id": "8kQD2A_QzZOm",
        "colab": {
          "base_uri": "https://localhost:8080/"
        },
        "outputId": "b9f97b49-3b06-4c04-9ec2-6cff81c9c92f"
      },
      "outputs": [
        {
          "output_type": "stream",
          "name": "stdout",
          "text": [
            "Manalo -> Manjares -> Maravilla -> Marcial -> Montaño -> None\n",
            "Montaño -> Marcial -> Maravilla -> Manjares -> Manalo -> None\n"
          ]
        }
      ],
      "source": [
        "# put your code here\n",
        "\n",
        "#Create a Node Class\n",
        "class Node:\n",
        "\n",
        "    def __init__(self, data):\n",
        "        self.data = data\n",
        "        self.next = None\n",
        "        self.prev = None\n",
        "\n",
        "#Create a DoublyLinkedList Class\n",
        "class DoublyLinkedList:\n",
        "\n",
        "    def __init__(self):\n",
        "        self.head = None\n",
        "\n",
        "    def traverse(self, node):\n",
        "        while node:\n",
        "            print(node.data, end=\" -> \")\n",
        "            node = node.next\n",
        "\n",
        "    def traverse_in_reverse_order(self, node):\n",
        "        while node:\n",
        "            print(node.data, end=\" -> \")\n",
        "            node = node.prev\n",
        "\n",
        "#Creating new instance of the DoublyLinkedList class\n",
        "doubly_linked_list = DoublyLinkedList()\n",
        "\n",
        "doubly_linked_list.head = Node ('Manalo')\n",
        "node_b = Node ('Manjares')\n",
        "node_c = Node ('Maravilla')\n",
        "node_d = Node ('Marcial')\n",
        "node_e = Node ('Montaño')\n",
        "\n",
        "#Connect each node\n",
        "doubly_linked_list.head.prev = None\n",
        "doubly_linked_list.head.next = node_b\n",
        "\n",
        "node_b.prev = doubly_linked_list.head\n",
        "node_b.next = node_c\n",
        "\n",
        "node_c.prev = node_b\n",
        "node_c.next = node_d\n",
        "\n",
        "node_d.prev = node_c\n",
        "node_d.next = node_e\n",
        "\n",
        "node_e.prev = node_d\n",
        "node_e.next = None\n",
        "\n",
        "#Display all elements\n",
        "print(doubly_linked_list.traverse(doubly_linked_list.head))\n",
        "\n",
        "print(doubly_linked_list.traverse_in_reverse_order(node_e))"
      ]
    },
    {
      "cell_type": "markdown",
      "metadata": {
        "id": "rtApbsCjzZOm"
      },
      "source": [
        "#### 3. Create a Circular Linked list\n",
        "\n",
        "- Each node should contain your name and your seatmates in your row\n",
        "- Create at least 5 nodes\n",
        "- Traverse all nodes"
      ]
    },
    {
      "cell_type": "code",
      "execution_count": null,
      "metadata": {
        "id": "Gp1Oiq0jzZOn",
        "colab": {
          "base_uri": "https://localhost:8080/"
        },
        "outputId": "17dc01a2-cd7b-4fd0-a177-e4c5fdcb8cba"
      },
      "outputs": [
        {
          "output_type": "stream",
          "name": "stdout",
          "text": [
            "Manalo -> Manjares -> Maravilla -> Marcial -> Montaño -> \n",
            "Checking if the last node will go to head...\n",
            "\n",
            "value of node_e is : Montaño\n",
            "value of next of node_e is : Manalo\n"
          ]
        }
      ],
      "source": [
        "# put your code here\n",
        "\n",
        "class Node:\n",
        "    def __init__(self, data):\n",
        "        self.data = data\n",
        "        self.next = None\n",
        "\n",
        "class CircularLinkedList:\n",
        "\n",
        "    def __init__(self):\n",
        "        self.head = None\n",
        "\n",
        "    def traverse(self, node):\n",
        "\n",
        "        head = node\n",
        "\n",
        "        while node:\n",
        "            print(node.data, end=\" -> \")\n",
        "            node = node.next\n",
        "\n",
        "            # Break to prevent infinite loop\n",
        "            if node == head:\n",
        "                break\n",
        "\n",
        "circular_linked_list = CircularLinkedList()\n",
        "\n",
        "circular_linked_list.head = Node ('Manalo')\n",
        "node_b = Node ('Manjares')\n",
        "node_c = Node ('Maravilla')\n",
        "node_d = Node ('Marcial')\n",
        "node_e = Node ('Montaño')\n",
        "\n",
        "circular_linked_list.head.next = node_b\n",
        "node_b.next = node_c\n",
        "node_c.next = node_d\n",
        "node_d.next = node_e\n",
        "node_e.next = circular_linked_list.head\n",
        "\n",
        "circular_linked_list.traverse(circular_linked_list.head)\n",
        "print()\n",
        "print(\"Checking if the last node will go to head...\")\n",
        "print()\n",
        "#Checking if the last node will go to head\n",
        "print(\"value of node_e is :\", node_e.data)\n",
        "print(\"value of next of node_e is :\", node_e.next.data)"
      ]
    },
    {
      "cell_type": "code",
      "source": [],
      "metadata": {
        "id": "cnMIFWdrOC9D"
      },
      "execution_count": null,
      "outputs": []
    }
  ],
  "metadata": {
    "kernelspec": {
      "display_name": "Python 3",
      "language": "python",
      "name": "python3"
    },
    "language_info": {
      "name": "python",
      "version": "3.11.4"
    },
    "orig_nbformat": 4,
    "colab": {
      "provenance": [],
      "include_colab_link": true
    }
  },
  "nbformat": 4,
  "nbformat_minor": 0
}