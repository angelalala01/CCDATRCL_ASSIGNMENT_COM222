{
  "cells": [
    {
      "cell_type": "markdown",
      "metadata": {
        "id": "view-in-github",
        "colab_type": "text"
      },
      "source": [
        "<a href=\"https://colab.research.google.com/github/angelalala01/CCDATRCL_ASSIGNMENT_COM222/blob/main/Exercise4.ipynb\" target=\"_parent\"><img src=\"https://colab.research.google.com/assets/colab-badge.svg\" alt=\"Open In Colab\"/></a>"
      ]
    },
    {
      "cell_type": "markdown",
      "metadata": {
        "id": "fCO3VeNzvGDc"
      },
      "source": [
        "# Exercise 4"
      ]
    },
    {
      "cell_type": "markdown",
      "metadata": {
        "id": "UCFGr2qPKONg"
      },
      "source": [
        "#### Pre-defined sorting algorithms"
      ]
    },
    {
      "cell_type": "code",
      "execution_count": 4,
      "metadata": {
        "id": "dXWXOLWtKONg"
      },
      "outputs": [],
      "source": [
        "def mergeSort(array):\n",
        "    if len(array) > 1:\n",
        "\n",
        "        #  r is the point where the array is divided into two subarrays\n",
        "        r = len(array)//2\n",
        "        L = array[:r]\n",
        "        M = array[r:]\n",
        "\n",
        "        # Sort the two halves\n",
        "        mergeSort(L)\n",
        "        mergeSort(M)\n",
        "\n",
        "        i = j = k = 0\n",
        "\n",
        "        # Until we reach either end of either L or M, pick larger among\n",
        "        # elements L and M and place them in the correct position at A[p..r]\n",
        "        while i < len(L) and j < len(M):\n",
        "            if L[i] < M[j]:\n",
        "                array[k] = L[i]\n",
        "                i += 1\n",
        "            else:\n",
        "                array[k] = M[j]\n",
        "                j += 1\n",
        "            k += 1\n",
        "\n",
        "        # When we run out of elements in either L or M,\n",
        "        # pick up the remaining elements and put in A[p..r]\n",
        "        while i < len(L):\n",
        "            array[k] = L[i]\n",
        "            i += 1\n",
        "            k += 1\n",
        "\n",
        "        while j < len(M):\n",
        "            array[k] = M[j]\n",
        "            j += 1\n",
        "            k += 1\n",
        "\n",
        "# Print the array\n",
        "def printList(array):\n",
        "    for i in range(len(array)):\n",
        "        print(array[i], end=\" \")\n",
        "    print()"
      ]
    },
    {
      "cell_type": "code",
      "execution_count": 5,
      "metadata": {
        "id": "OB-JMVxvKONi"
      },
      "outputs": [],
      "source": [
        "def countingSort(array):\n",
        "    size = len(array)\n",
        "    output = [0] * size\n",
        "\n",
        "    # Initialize count array\n",
        "    count = [0] * 10\n",
        "\n",
        "    # Store the count of each elements in count array\n",
        "    for i in range(0, size):\n",
        "        count[array[i]] += 1\n",
        "\n",
        "    # Store the cummulative count\n",
        "    for i in range(1, 10):\n",
        "        count[i] += count[i - 1]\n",
        "\n",
        "    # Find the index of each element of the original array in count array\n",
        "    # place the elements in output array\n",
        "    i = size - 1\n",
        "    while i >= 0:\n",
        "        output[count[array[i]] - 1] = array[i]\n",
        "        count[array[i]] -= 1\n",
        "        i -= 1\n",
        "\n",
        "    # Copy the sorted elements into original array\n",
        "    for i in range(0, size):\n",
        "        array[i] = output[i]"
      ]
    },
    {
      "cell_type": "code",
      "execution_count": null,
      "metadata": {
        "id": "VXaukk4_KONj"
      },
      "outputs": [],
      "source": [
        "def insertionSort(array):\n",
        "\n",
        "    for step in range(1, len(array)):\n",
        "        key = array[step]\n",
        "        j = step - 1\n",
        "\n",
        "        # Compare key with each element on the left of it until an element smaller than it is found\n",
        "        # For descending order, change key<array[j] to key>array[j].\n",
        "        while j >= 0 and key < array[j]:\n",
        "            array[j + 1] = array[j]\n",
        "            j = j - 1\n",
        "\n",
        "        # Place key at after the element just smaller than it.\n",
        "        array[j + 1] = key"
      ]
    },
    {
      "cell_type": "code",
      "execution_count": null,
      "metadata": {
        "id": "b4yWHH1nKONj"
      },
      "outputs": [],
      "source": [
        "# Bubble sort in Python\n",
        "def bubbleSort(array):\n",
        "\n",
        "  # loop to access each array element\n",
        "  for i in range(len(array)):\n",
        "\n",
        "    # loop to compare array elements\n",
        "    for j in range(0, len(array) - i - 1):\n",
        "\n",
        "      # compare two adjacent elements\n",
        "      # change > to < to sort in descending order\n",
        "      if array[j] > array[j + 1]:\n",
        "\n",
        "        # swapping elements if elements\n",
        "        # are not in the intended order\n",
        "        temp = array[j]\n",
        "        array[j] = array[j+1]\n",
        "        array[j+1] = temp"
      ]
    },
    {
      "cell_type": "markdown",
      "metadata": {
        "id": "6j9PZVsyvGDe"
      },
      "source": [
        "#### 1. Sort your **student number** in **ascending order**\n",
        "\n",
        "Example:\n",
        "\n",
        "**Input: 2022123456**\n",
        "\n",
        "**Output: 0122223456**"
      ]
    },
    {
      "cell_type": "code",
      "execution_count": 7,
      "metadata": {
        "id": "UuNMRCm3vGDe",
        "colab": {
          "base_uri": "https://localhost:8080/"
        },
        "outputId": "72db13f9-a8a2-4b18-9bcd-3cd43bac902e"
      },
      "outputs": [
        {
          "output_type": "stream",
          "name": "stdout",
          "text": [
            "0122223456\n"
          ]
        }
      ],
      "source": [
        "# put your answer here\n",
        "\n",
        "student_number = \"2022123456\"\n",
        "\n",
        "#The join() method makes the items join in one string.\n",
        "sorted_number = ''.join(sorted(student_number))\n",
        "print(sorted_number)"
      ]
    },
    {
      "cell_type": "markdown",
      "metadata": {
        "id": "felukBjnvGDf"
      },
      "source": [
        "#### 2. Sort the **dates** in **ascending order**.\n",
        "\n",
        "dates = [\"12-25-2023\", birthday, \"01-01-2023\"]\n",
        "\n",
        "Enter your birthday in the birthday variable."
      ]
    },
    {
      "cell_type": "code",
      "execution_count": 24,
      "metadata": {
        "id": "f8xQ3N0jvGDg",
        "colab": {
          "base_uri": "https://localhost:8080/"
        },
        "outputId": "69d0d6a6-f39f-4fb7-ad9f-7be3025956cf"
      },
      "outputs": [
        {
          "output_type": "stream",
          "name": "stdout",
          "text": [
            "10-20-2001\n",
            "01-01-2023\n",
            "12-25-2023\n"
          ]
        }
      ],
      "source": [
        "# put your answer here\n",
        "from datetime import datetime\n",
        "# Your birthday should be in mm-dd-yyyy\n",
        "birthday = \"10-20-2001\"\n",
        "dates = [\"12-25-2023\", birthday, \"01-01-2023\"]\n",
        "\n",
        "#This define a custom key function to parse date.\n",
        "def date_key(date_str):\n",
        "  return datetime.strptime(date_str, \"%m-%d-%Y\")\n",
        "\n",
        "sorted_dates = sorted(dates, key=date_key)\n",
        "for date in sorted_dates:\n",
        "  print(date)"
      ]
    },
    {
      "cell_type": "markdown",
      "metadata": {
        "id": "IFDPeGZxvGDg"
      },
      "source": [
        "#### 3. Count the **total number of swaps** to sort the list below using **Bubble Sort**\n",
        "\n",
        "|3|2|5|1|4|\n",
        "|---|----|---|---|---|"
      ]
    },
    {
      "cell_type": "code",
      "execution_count": 43,
      "metadata": {
        "id": "b1ppwLcevGDg",
        "outputId": "2ee157a3-8edd-405f-9eee-cf3e74fa1cf1",
        "colab": {
          "base_uri": "https://localhost:8080/"
        }
      },
      "outputs": [
        {
          "output_type": "stream",
          "name": "stdout",
          "text": [
            "Total swaps: 5\n"
          ]
        }
      ],
      "source": [
        "def bubble_sort(array):\n",
        "    size = len(array)\n",
        "    swaps = 0  # Initialize a variable to count swaps\n",
        "\n",
        "    for i in range(size):\n",
        "        swapped = False\n",
        "\n",
        "        for j in range(0, size-i-1):\n",
        "            if array[j] > array[j+1]:\n",
        "                array[j], array[j+1] = array[j+1], array[j]\n",
        "                swapped = True\n",
        "                swaps += 1  # Increment the swap count\n",
        "        if not swapped:\n",
        "            break\n",
        "\n",
        "    return swaps\n",
        "\n",
        "unsorted_list = [3, 2, 5, 1, 4]\n",
        "\n",
        "# Call bubble_sort and get the total number of swaps\n",
        "total_swaps = bubble_sort(unsorted_list)\n",
        "\n",
        "print(\"Total swaps:\", total_swaps)\n"
      ]
    },
    {
      "cell_type": "markdown",
      "metadata": {
        "id": "iO2UusQWvGDi"
      },
      "source": [
        "#### 4. Count the **total number of steps** to sort the list below using **Insertion Sort**\n",
        "\n",
        "\n",
        "|6|2|5|7|4|1|8|9|3|\n",
        "|---|---|---|---|---|---|---|---|---|"
      ]
    },
    {
      "cell_type": "code",
      "execution_count": 47,
      "metadata": {
        "id": "vq1PYEjmvGDi",
        "outputId": "071f0841-8bb3-4686-ea21-53c142a820bf",
        "colab": {
          "base_uri": "https://localhost:8080/"
        }
      },
      "outputs": [
        {
          "output_type": "stream",
          "name": "stdout",
          "text": [
            "Total number of steps: 40\n"
          ]
        }
      ],
      "source": [
        "# put your answer here\n",
        "def insertion_sort(arr):\n",
        "    steps = 0  # Initialize a variable to count steps\n",
        "\n",
        "    for i in range(1, len(arr)):\n",
        "        key = arr[i]\n",
        "        j = i - 1\n",
        "        steps += 1  # Increment the step count\n",
        "\n",
        "        while j >= 0 and key < arr[j]:\n",
        "            arr[j + 1] = arr[j]\n",
        "            j -= 1\n",
        "            steps += 2  # Increment the step count and swap\n",
        "\n",
        "        arr[j + 1] = key\n",
        "\n",
        "    return steps\n",
        "\n",
        "unsorted_list = [6, 2, 5, 7, 4, 1, 8, 9, 3]\n",
        "\n",
        "# Call insertion_sort and get the total number of steps\n",
        "total_steps = insertion_sort(unsorted_list)\n",
        "\n",
        "print(\"Total number of steps:\", total_steps)\n"
      ]
    },
    {
      "cell_type": "markdown",
      "metadata": {
        "id": "jpfNCCdbvGDj"
      },
      "source": [
        "#### 5. Given the list below:\n",
        "\n",
        "\n",
        "|7|5|4|3|2|5|1|8|\n",
        "|---|---|---|---|---|---|---|---|\n",
        "\n",
        "Using **merge sort** and **counting sort**\n",
        "\n",
        "Determine which sorting algorithm is faster by counting the total number of steps for each algorithm\n"
      ]
    },
    {
      "cell_type": "code",
      "execution_count": 54,
      "metadata": {
        "id": "2YVK17cSvGDj",
        "outputId": "c54a79ac-607f-4913-a863-4c0d1449434d",
        "colab": {
          "base_uri": "https://localhost:8080/"
        }
      },
      "outputs": [
        {
          "output_type": "stream",
          "name": "stdout",
          "text": [
            "Counting Sort - Total steps: 8\n",
            "Merge Sort - Total steps: 16\n",
            "Counting sort is faster\n"
          ]
        }
      ],
      "source": [
        "# put your answer here\n",
        "\n",
        "# M E R G E  S O R T\n",
        "def merge_sort(arr):\n",
        "    if len(arr) <= 1:\n",
        "        return arr, 0\n",
        "\n",
        "    # Split the array into two halves\n",
        "    mid = len(arr) // 2\n",
        "    left_half = arr[:mid]\n",
        "    right_half = arr[mid:]\n",
        "\n",
        "    # Recursive calls on the two halves\n",
        "    left_half, left_steps = merge_sort(left_half)\n",
        "    right_half, right_steps = merge_sort(right_half)\n",
        "\n",
        "    # Merge the two sorted halves and count the steps\n",
        "    merged_arr, merge_steps = merge(left_half, right_half)\n",
        "\n",
        "    # Total steps is the sum of steps in merge and steps in left and right halves\n",
        "    total_steps = merge_steps + left_steps + right_steps\n",
        "\n",
        "    return merged_arr, total_steps\n",
        "\n",
        "def merge(left, right):\n",
        "    result = []\n",
        "    i = j = 0\n",
        "    steps = 0\n",
        "\n",
        "    while i < len(left) and j < len(right):\n",
        "        if left[i] < right[j]:\n",
        "            result.append(left[i])\n",
        "            i += 1\n",
        "        else:\n",
        "            result.append(right[j])\n",
        "            j += 1\n",
        "        steps += 1\n",
        "\n",
        "    result.extend(left[i:])\n",
        "    result.extend(right[j:])\n",
        "\n",
        "    return result, steps\n",
        "\n",
        "\n",
        "\n",
        "# C O U N T I N G  S O R T\n",
        "def counting_sort(arr):\n",
        "    # Find the maximum element to determine the range for the count array\n",
        "    max_element = max(arr)\n",
        "    count = [0] * (max_element + 1)\n",
        "    output = [0] * len(arr)\n",
        "    steps = 0\n",
        "\n",
        "    # Count the occurrences of each element\n",
        "    for num in arr:\n",
        "        count[num] += 1\n",
        "\n",
        "    for i in range(1, len(count)):\n",
        "        count[i] += count[i - 1]\n",
        "\n",
        "    # Build the output array while counting steps\n",
        "    for i in range(len(arr)):\n",
        "        output[count[arr[i]] - 1] = arr[i]\n",
        "        count[arr[i]] -= 1\n",
        "        steps += 1\n",
        "\n",
        "    return output, steps\n",
        "\n",
        "unsorted_list = [7, 5,\t4,\t3,\t2,\t5,\t1,\t8]\n",
        "\n",
        "# Call merge_sort & counting_sort and get the total number of steps\n",
        "sorted_list, merge_sort_steps = merge_sort(unsorted_list)\n",
        "sorted_list, counting_sort_steps = counting_sort(unsorted_list)\n",
        "\n",
        "print(\"Counting Sort - Total steps:\", counting_sort_steps)\n",
        "print(\"Merge Sort - Total steps:\", merge_sort_steps)\n",
        "\n",
        "\n",
        "if merge_sort_steps < counting_sort_steps:\n",
        "    print(\"Merge sort is faster\")\n",
        "else:\n",
        "    print(\"Counting sort is faster\")"
      ]
    }
  ],
  "metadata": {
    "colab": {
      "provenance": [],
      "include_colab_link": true
    },
    "kernelspec": {
      "display_name": "Python 3",
      "language": "python",
      "name": "python3"
    },
    "language_info": {
      "codemirror_mode": {
        "name": "ipython",
        "version": 3
      },
      "file_extension": ".py",
      "mimetype": "text/x-python",
      "name": "python",
      "nbconvert_exporter": "python",
      "pygments_lexer": "ipython3",
      "version": "3.11.4"
    },
    "orig_nbformat": 4
  },
  "nbformat": 4,
  "nbformat_minor": 0
}