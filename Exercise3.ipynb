{
  "cells": [
    {
      "cell_type": "markdown",
      "metadata": {
        "id": "view-in-github",
        "colab_type": "text"
      },
      "source": [
        "<a href=\"https://colab.research.google.com/github/angelalala01/CCDATRCL_ASSIGNMENT_COM222/blob/main/Exercise3.ipynb\" target=\"_parent\"><img src=\"https://colab.research.google.com/assets/colab-badge.svg\" alt=\"Open In Colab\"/></a>"
      ]
    },
    {
      "cell_type": "markdown",
      "metadata": {
        "id": "bPMUrEjpKX2y"
      },
      "source": [
        "# Exercise 3"
      ]
    },
    {
      "cell_type": "markdown",
      "metadata": {
        "id": "ouW3UU_5KX20"
      },
      "source": [
        "#### Pre-defined classes"
      ]
    },
    {
      "cell_type": "markdown",
      "metadata": {
        "id": "tF6l9Q5DKX21"
      },
      "source": [
        "Pre-defined Queue class"
      ]
    },
    {
      "cell_type": "code",
      "execution_count": null,
      "metadata": {
        "id": "p93zGg3UKX21"
      },
      "outputs": [],
      "source": [
        "class Queue:\n",
        "    def __init__(self):\n",
        "        self.queue = []\n",
        "\n",
        "    # Add an element\n",
        "    def enqueue(self, item):\n",
        "        self.queue.append(item)\n",
        "\n",
        "    # Remove an element\n",
        "    def dequeue(self):\n",
        "        if len(self.queue) < 1:\n",
        "            return None\n",
        "        return self.queue.pop(0)\n",
        "\n",
        "    # Display  the queue\n",
        "    def display(self):\n",
        "        print(self.queue)\n",
        "\n",
        "    def size(self):\n",
        "        return len(self.queue)\n",
        "\n",
        "    def peek(self):\n",
        "        return self.queue[0]\n"
      ]
    },
    {
      "cell_type": "markdown",
      "metadata": {
        "id": "Nc6UZwJFKX22"
      },
      "source": [
        "Pre-defined Deque class"
      ]
    },
    {
      "cell_type": "code",
      "execution_count": null,
      "metadata": {
        "id": "KsSJW-EDKX22"
      },
      "outputs": [],
      "source": [
        "class Deque:\n",
        "    def __init__(self):\n",
        "        self.items = []\n",
        "\n",
        "    def isEmpty(self):\n",
        "        return self.items == []\n",
        "\n",
        "    def addRear(self, item):\n",
        "        self.items.append(item)\n",
        "\n",
        "    def addFront(self, item):\n",
        "        self.items.insert(0, item)\n",
        "\n",
        "    def removeFront(self):\n",
        "        return self.items.pop(0)\n",
        "\n",
        "    def removeRear(self):\n",
        "        return self.items.pop()\n",
        "\n",
        "    def size(self):\n",
        "        return len(self.items)"
      ]
    },
    {
      "cell_type": "markdown",
      "metadata": {
        "id": "mrMjG8EeKX22"
      },
      "source": [
        "Pre-defined Circular Queue class"
      ]
    },
    {
      "cell_type": "code",
      "execution_count": null,
      "metadata": {
        "id": "DPXGav8AKX23"
      },
      "outputs": [],
      "source": [
        "class CircularQueue():\n",
        "\n",
        "    def __init__(self, k):\n",
        "        self.k = k\n",
        "        self.queue = [None] * k\n",
        "        self.head = self.tail = -1\n",
        "\n",
        "    # Insert an element into the circular queue\n",
        "    def enqueue(self, data):\n",
        "\n",
        "        if ((self.tail + 1) % self.k == self.head):\n",
        "            print(\"The circular queue is full\\n\")\n",
        "\n",
        "        elif (self.head == -1):\n",
        "            self.head = 0\n",
        "            self.tail = 0\n",
        "            self.queue[self.tail] = data\n",
        "        else:\n",
        "            self.tail = (self.tail + 1) % self.k\n",
        "            self.queue[self.tail] = data\n",
        "\n",
        "    # Delete an element from the circular queue\n",
        "    def dequeue(self):\n",
        "        if (self.head == -1):\n",
        "            print(\"The circular queue is empty\\n\")\n",
        "\n",
        "        elif (self.head == self.tail):\n",
        "            temp = self.queue[self.head]\n",
        "            self.head = -1\n",
        "            self.tail = -1\n",
        "            return temp\n",
        "        else:\n",
        "            temp = self.queue[self.head]\n",
        "            self.head = (self.head + 1) % self.k\n",
        "            return temp\n",
        "\n",
        "    def printCQueue(self):\n",
        "        if(self.head == -1):\n",
        "            print(\"No element in the circular queue\")\n",
        "\n",
        "        elif (self.tail >= self.head):\n",
        "            for i in range(self.head, self.tail + 1):\n",
        "                print(self.queue[i], end=\" \")\n",
        "            print()\n",
        "        else:\n",
        "            for i in range(self.head, self.k):\n",
        "                print(self.queue[i], end=\" \")\n",
        "            for i in range(0, self.tail + 1):\n",
        "                print(self.queue[i], end=\" \")\n",
        "            print()\n"
      ]
    },
    {
      "cell_type": "markdown",
      "metadata": {
        "id": "hP1Nn1_wKX23"
      },
      "source": [
        "Pre-defined Priority Queue Class"
      ]
    },
    {
      "cell_type": "code",
      "execution_count": null,
      "metadata": {
        "id": "52RqPIdyKX23"
      },
      "outputs": [],
      "source": [
        "class PriorityQueueNode:\n",
        "    def __init__(self, value, pr):\n",
        "\n",
        "        self.data = value\n",
        "        self.priority = pr\n",
        "        self.next = None"
      ]
    },
    {
      "cell_type": "code",
      "execution_count": null,
      "metadata": {
        "id": "TAWJ3rJKKX23"
      },
      "outputs": [],
      "source": [
        "class PriorityQueue:\n",
        "\n",
        "\tdef __init__(self):\n",
        "\n",
        "\t\tself.front = None\n",
        "\n",
        "\t# Method to check Priority Queue is Empty\n",
        "\t# or not if Empty then it will return True\n",
        "\t# Otherwise False\n",
        "\tdef isEmpty(self):\n",
        "\n",
        "\t\treturn True if self.front == None else False\n",
        "\n",
        "\t# Method to add items in Priority Queue\n",
        "\t# According to their priority value\n",
        "\tdef push(self, value, priority):\n",
        "\n",
        "\t\t# Condition check for checking Priority\n",
        "\t\t# Queue is empty or not\n",
        "\t\tif self.isEmpty() == True:\n",
        "\n",
        "\t\t\t# Creating a new node and assigning\n",
        "\t\t\t# it to class variable\n",
        "\t\t\tself.front = PriorityQueueNode(value, priority)\n",
        "\n",
        "\t\t\t# Returning 1 for successful execution\n",
        "\t\t\treturn 1\n",
        "\n",
        "\t\telse:\n",
        "\n",
        "\t\t\t# Special condition check to see that\n",
        "\t\t\t# first node priority value\n",
        "\t\t\tif self.front.priority > priority:\n",
        "\t\t\t\t# Creating a new node\n",
        "\t\t\t\tnewNode = PriorityQueueNode(value, priority)\n",
        "\t\t\t\t# Updating the new node next value\n",
        "\t\t\t\tnewNode.next = self.front\n",
        "\n",
        "\t\t\t\t# Assigning it to self.front\n",
        "\t\t\t\tself.front = newNode\n",
        "\n",
        "\t\t\t\t# Returning 1 for successful execution\n",
        "\t\t\t\treturn 1\n",
        "\n",
        "\t\t\telse:\n",
        "\n",
        "\t\t\t\t# Traversing through Queue until it\n",
        "\t\t\t\t# finds the next smaller priority node\n",
        "\t\t\t\ttemp = self.front\n",
        "\n",
        "\t\t\t\twhile temp.next:\n",
        "\t\t\t\t\t# If same priority node found then current\n",
        "\t\t\t\t\t# node will come after previous node\n",
        "\t\t\t\t\tif priority <= temp.next.priority:\n",
        "\t\t\t\t\t\tbreak\n",
        "\n",
        "\t\t\t\t\ttemp = temp.next\n",
        "\n",
        "\t\t\t\tnewNode = PriorityQueueNode(value, priority)\n",
        "\t\t\t\tnewNode.next = temp.next\n",
        "\t\t\t\ttemp.next = newNode\n",
        "\n",
        "\t\t\t\t# Returning 1 for successful execution\n",
        "\t\t\t\treturn 1\n",
        "\n",
        "\t# Method to remove high priority item\n",
        "\t# from the Priority Queue\n",
        "\tdef pop(self):\n",
        "\n",
        "\t\t# Condition check for checking\n",
        "\t\t# Priority Queue is empty or not\n",
        "\t\tif self.isEmpty() == True:\n",
        "\t\t\treturn\n",
        "\t\telse:\n",
        "\t\t\t# Removing high priority node from\n",
        "\t\t\t# Priority Queue, and updating front\n",
        "\t\t\t# with next node\n",
        "\t\t\tself.front = self.front.next\n",
        "\t\t\treturn 1\n",
        "\n",
        "\t# Method to return high priority node\n",
        "\t# value Not removing it\n",
        "\tdef peek(self):\n",
        "\t\t# Condition check for checking Priority\n",
        "\t\t# Queue is empty or not\n",
        "\t\tif self.isEmpty() == True:\n",
        "\t\t\treturn\n",
        "\t\telse:\n",
        "\t\t\treturn self.front.data\n",
        "\n",
        "\t# Method to Traverse through Priority\n",
        "\t# Queue\n",
        "\tdef traverse(self):\n",
        "\t\t# Condition check for checking Priority\n",
        "\t\t# Queue is empty or not\n",
        "\t\tif self.isEmpty() == True:\n",
        "\t\t\treturn \"Queue is Empty!\"\n",
        "\t\telse:\n",
        "\t\t\ttemp = self.front\n",
        "\t\t\twhile temp:\n",
        "\t\t\t\tprint(temp.data, end=\" \")\n",
        "\t\t\t\ttemp = temp.next\n"
      ]
    },
    {
      "cell_type": "markdown",
      "metadata": {
        "id": "28xuUiE5KX24"
      },
      "source": [
        "#### 1. Create a Queue\n",
        "\n",
        "- Each element should contain your name and your other classmates\n",
        "- There should be at least 5 elements in the queue\n",
        "- Put yourself at the end of the queue\n",
        "- Print all elements in the queue"
      ]
    },
    {
      "cell_type": "code",
      "execution_count": 4,
      "metadata": {
        "colab": {
          "base_uri": "https://localhost:8080/"
        },
        "id": "7qWRSVRMKX24",
        "outputId": "a8c3c6be-4c19-40fd-e0a2-2544cde3da60"
      },
      "outputs": [
        {
          "output_type": "stream",
          "name": "stdout",
          "text": [
            "['Manalo', 'Manjares', 'Marcial', 'Montaño', 'Maravilla']\n"
          ]
        }
      ],
      "source": [
        "queue = []\n",
        "\n",
        "#Add elements to the queue\n",
        "queue.append (\"Manalo\")\n",
        "queue.append(\"Manjares\")\n",
        "queue.append(\"Marcial\")\n",
        "queue.append(\"Montaño\")\n",
        "queue.append(\"Maravilla\")\n",
        "\n",
        "print(queue)"
      ]
    },
    {
      "cell_type": "markdown",
      "metadata": {
        "id": "ZRxoM-8oKX24"
      },
      "source": [
        "#### 2. Create a Deque\n",
        "\n",
        "Given the queue below,\n",
        "\n",
        "**Queue:**\n",
        "\n",
        "| Cat | Dog | Rabbit | Bird | Hamster\n",
        "| --- | --- | --- | --- | --- |\n",
        "\n",
        "**dequeue** each element and insert them into a **Deque** in the following order below:\n",
        "\n",
        "**Deque:**\n",
        "\n",
        "| Hamster | Bird | Rabbit | Dog | Cat\n",
        "| --- | --- | --- | --- | --- |\n",
        "\n",
        "**Expected output:**\n",
        "\n",
        "['Hamster','Bird', 'Rabbit', 'Dog', 'Cat']"
      ]
    },
    {
      "cell_type": "code",
      "execution_count": 31,
      "metadata": {
        "colab": {
          "base_uri": "https://localhost:8080/"
        },
        "id": "nDT_jWxOKX24",
        "outputId": "86b5b06b-063b-4113-ae04-8e2dcedbe210"
      },
      "outputs": [
        {
          "output_type": "stream",
          "name": "stdout",
          "text": [
            "['Hamster', 'Bird', 'Rabbit', 'Dog', 'Cat']\n"
          ]
        }
      ],
      "source": [
        "from collections import deque\n",
        "\n",
        "queue = [\"Cat\", \"Dog\", \"Rabbit\", \"Bird\", \"Hamster\"]\n",
        "\n",
        "deque = deque()\n",
        "\n",
        "#Dequeue and insert the deque in the specified order\n",
        "deque.append(queue.pop())\n",
        "deque.append(queue.pop())\n",
        "deque.append(queue.pop())\n",
        "deque.append(queue.pop())\n",
        "deque.append(queue.pop())\n",
        "\n",
        "print(list(deque))"
      ]
    },
    {
      "cell_type": "markdown",
      "metadata": {
        "id": "x30nMtLSKX24"
      },
      "source": [
        "#### 3. Create a Circular Queue\n",
        "\n",
        "Given the queue below,\n",
        "\n",
        "**Queue:**\n",
        "\n",
        "| I | II | III | IV | V | VI | VII | VIII | IX | X | XI | XII\n",
        "| --- | --- | --- | --- | --- | --- | --- | --- | --- | --- | --- | --- |\n",
        "\n",
        "**dequeue** each element and insert them into a **Circular Deque** in the following order below:\n",
        "\n",
        "**Circular Queue:**\n",
        "\n",
        "<img src=\"clock.jpg\"/>\n",
        "\n",
        "**Expected output:**\n",
        "\n",
        "I II III IV V VI VII VIII IX X XI XII"
      ]
    },
    {
      "cell_type": "code",
      "execution_count": 35,
      "metadata": {
        "colab": {
          "base_uri": "https://localhost:8080/"
        },
        "id": "Hey6s79mKX24",
        "outputId": "e83c6fc6-8609-4578-acf2-3e16f464e06a"
      },
      "outputs": [
        {
          "output_type": "stream",
          "name": "stdout",
          "text": [
            "['I', 'II', 'III', 'IV', 'V', 'VI', 'VII', 'VIII', 'IX', 'X', 'XI', 'XII']\n"
          ]
        }
      ],
      "source": [
        "from collections import deque\n",
        "\n",
        "queue = [\"I\", \"II\", \"III\", \"IV\", \"V\", \"VI\", \"VII\", \"VIII\", \"IX\", \"X\", \"XI\", \"XII\"]\n",
        "\n",
        "circular_deque = deque(maxlen=len(queue))\n",
        "\n",
        "circular_deque.appendleft(queue.pop())\n",
        "circular_deque.appendleft(queue.pop())\n",
        "circular_deque.appendleft(queue.pop())\n",
        "circular_deque.appendleft(queue.pop())\n",
        "circular_deque.appendleft(queue.pop())\n",
        "circular_deque.appendleft(queue.pop())\n",
        "circular_deque.appendleft(queue.pop())\n",
        "circular_deque.appendleft(queue.pop())\n",
        "circular_deque.appendleft(queue.pop())\n",
        "circular_deque.appendleft(queue.pop())\n",
        "circular_deque.appendleft(queue.pop())\n",
        "circular_deque.appendleft(queue.pop())\n",
        "\n",
        "result_list = list(circular_deque)\n",
        "\n",
        "print(result_list)"
      ]
    },
    {
      "cell_type": "markdown",
      "metadata": {
        "id": "5dhgwwExKX24"
      },
      "source": [
        "#### 4. Create a Priority Queue\n",
        "\n",
        "Given the queue below,\n",
        "\n",
        "**Queue:**\n",
        "\n",
        "| Cat | Dog | Rabbit | Bird | Hamster\n",
        "| --- | --- | --- | --- | --- |\n",
        "\n",
        "\n",
        "**dequeue** each element and insert them into a **Priority Queue** with the following priority values\n",
        "\n",
        "**Priority Queue:**\n",
        "\n",
        "| Element | Priority |\n",
        "| --- | --- |\n",
        "| Hamster |  0 |\n",
        "| Bird |  1 |\n",
        "| Rabbit |  2 |\n",
        "| Dog |  3 |\n",
        "| Cat |  4 |\n",
        "\n",
        "**Expected output:**\n",
        "\n",
        "Hamster Bird Rabbit Dog Cat"
      ]
    },
    {
      "cell_type": "code",
      "execution_count": 44,
      "metadata": {
        "colab": {
          "base_uri": "https://localhost:8080/"
        },
        "id": "OFoV517qKX24",
        "outputId": "fdf54865-d8e9-4b66-c0f0-7e65d009fc74"
      },
      "outputs": [
        {
          "output_type": "stream",
          "name": "stdout",
          "text": [
            "['Hamster']\n",
            "['Hamster', 'Bird']\n",
            "['Hamster', 'Bird', 'Rabbit']\n",
            "['Hamster', 'Bird', 'Rabbit', 'Dog']\n",
            "['Hamster', 'Bird', 'Rabbit', 'Dog', 'Cat']\n"
          ]
        }
      ],
      "source": [
        "import heapq #heapq is a module to create a priority queue\n",
        "\n",
        "queue = [\"Cat\", \"Dog\", \"Rabbit\", \"Bird\", \"Hamster\"]\n",
        "priority_queue = [] # empty list\n",
        "\n",
        "priority_values = {\n",
        "    \"Hamster\": 0,\n",
        "    \"Bird\": 1,\n",
        "    \"Rabbit\": 2,\n",
        "    \"Dog\": 3,\n",
        "    \"Cat\": 4,\n",
        "}\n",
        "\n",
        "# Create a condition that populate the priority queue with elements and their priorities\n",
        "for element in queue:\n",
        "  heapq.heappush(priority_queue, (priority_values[element], element))\n",
        "\n",
        "result=[]\n",
        "while priority_queue:\n",
        "  _, element = heapq.heappop(priority_queue)\n",
        "  result.append(element)\n",
        "\n",
        "  print(result)"
      ]
    },
    {
      "cell_type": "markdown",
      "metadata": {
        "id": "YFE6WuXHKX25"
      },
      "source": [
        "#### 5. Create a Sorted Circular Queue\n",
        "\n",
        "Given the queue below,\n",
        "\n",
        "**Queue:**\n",
        "\n",
        "| 1 | 5 | 3 | 2 | 7 | 8 | 10 | 11 | 6 | 4 | 12 | 9\n",
        "| --- | --- | --- | --- | --- | --- | --- | --- | --- | --- | --- | --- |\n",
        "\n",
        "\n",
        "**dequeue** each element and insert them into a **Circular Queue** in the following order below:\n",
        "\n",
        "**Circular Queue:**\n",
        "\n",
        "<img src=\"clock1.png\"/>\n",
        "\n",
        "**Expected output:**\n",
        "\n",
        "1 2 3 4 5 6 7 8 9 10 11 12"
      ]
    },
    {
      "cell_type": "code",
      "execution_count": 48,
      "metadata": {
        "colab": {
          "base_uri": "https://localhost:8080/"
        },
        "id": "9pTQRu9ZKX25",
        "outputId": "dca605f7-bac3-4fa1-cd77-b87c915e79d3"
      },
      "outputs": [
        {
          "output_type": "stream",
          "name": "stdout",
          "text": [
            "1 2 3 4 5 6 7 8 9 10 11 12 "
          ]
        }
      ],
      "source": [
        "from collections import deque\n",
        "\n",
        "queue_elements = [1, 5, 3, 2, 7, 8, 10, 11, 6, 4, 12, 9]\n",
        "sorted_elements = sorted(queue_elements)\n",
        "\n",
        "circular_deque = deque(maxlen=len(sorted_elements))\n",
        "\n",
        "# Enqueue elements in the sorted order\n",
        "for element in sorted_elements:\n",
        "    circular_deque.append(element)\n",
        "\n",
        "for element in circular_deque:\n",
        "    print(element, end=' ') #(end='')--> this syntax prints the statement in a new line.\n"
      ]
    }
  ],
  "metadata": {
    "kernelspec": {
      "display_name": "Python 3",
      "language": "python",
      "name": "python3"
    },
    "language_info": {
      "codemirror_mode": {
        "name": "ipython",
        "version": 3
      },
      "file_extension": ".py",
      "mimetype": "text/x-python",
      "name": "python",
      "nbconvert_exporter": "python",
      "pygments_lexer": "ipython3",
      "version": "3.9.13"
    },
    "orig_nbformat": 4,
    "colab": {
      "provenance": [],
      "include_colab_link": true
    }
  },
  "nbformat": 4,
  "nbformat_minor": 0
}