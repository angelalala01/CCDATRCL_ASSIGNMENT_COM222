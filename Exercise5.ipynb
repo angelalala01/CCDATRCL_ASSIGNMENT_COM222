{
  "cells": [
    {
      "cell_type": "markdown",
      "metadata": {
        "id": "view-in-github",
        "colab_type": "text"
      },
      "source": [
        "<a href=\"https://colab.research.google.com/github/angelalala01/CCDATRCL_ASSIGNMENT_COM222/blob/main/Exercise5.ipynb\" target=\"_parent\"><img src=\"https://colab.research.google.com/assets/colab-badge.svg\" alt=\"Open In Colab\"/></a>"
      ]
    },
    {
      "cell_type": "markdown",
      "metadata": {
        "id": "oPkZ1Kqi1GCE"
      },
      "source": [
        "# Exercise 5"
      ]
    },
    {
      "cell_type": "markdown",
      "metadata": {
        "id": "bYHV-9dc1GCJ"
      },
      "source": [
        "#### 1. Create a dictionary of your 10 favorite songs."
      ]
    },
    {
      "cell_type": "markdown",
      "metadata": {
        "id": "wODYTID61GCK"
      },
      "source": [
        "Example:\n",
        "\n",
        "|KEY|VALUE|\n",
        "|---|---|\n",
        "|001|My Love|\n",
        "|002|Like a rose|"
      ]
    },
    {
      "cell_type": "code",
      "execution_count": null,
      "metadata": {
        "id": "Livs3D5b1GCM",
        "colab": {
          "base_uri": "https://localhost:8080/"
        },
        "outputId": "ef9266b4-31aa-49d7-f7c4-14987ec5c38e"
      },
      "outputs": [
        {
          "output_type": "stream",
          "name": "stdout",
          "text": [
            "{'001': 'Nothing', '002': 'Apocalypse', '003': 'I wanna be yours', '004': 'Do I wanna know', '005': 'Yellow', '006': 'Fix You', '007': 'The Shade', '008': 'Araw-araw', '009': 'Sinta', '010': 'Leonora'}\n"
          ]
        }
      ],
      "source": [
        "# put your answer here\n",
        "favorite_songs = {\n",
        "    \"001\": \"Nothing\",\n",
        "    \"002\": \"Apocalypse\",\n",
        "    \"003\": \"I wanna be yours\",\n",
        "    \"004\": \"Do I wanna know\",\n",
        "    \"005\": \"Yellow\",\n",
        "    \"006\": \"Fix You\",\n",
        "    \"007\": \"The Shade\",\n",
        "    \"008\": \"Araw-araw\",\n",
        "    \"009\": \"Sinta\",\n",
        "    \"010\": \"Leonora\"\n",
        "}\n",
        "\n",
        "print(favorite_songs)"
      ]
    },
    {
      "cell_type": "markdown",
      "metadata": {
        "id": "x-ml6tjv1GCO"
      },
      "source": [
        "#### 2. Loop through the dictionary by its **key** and **value**"
      ]
    },
    {
      "cell_type": "code",
      "execution_count": null,
      "metadata": {
        "id": "eUc8kZs31GCO",
        "colab": {
          "base_uri": "https://localhost:8080/"
        },
        "outputId": "4bdce741-dda7-43bd-f8b3-4a24cd4dd2a3"
      },
      "outputs": [
        {
          "output_type": "stream",
          "name": "stdout",
          "text": [
            "001  Nothing\n",
            "002  Apocalypse\n",
            "003  I wanna be yours\n",
            "004  Do I wanna know\n",
            "005  Yellow\n",
            "006  Fix You\n",
            "007  The Shade\n",
            "008  Araw-araw\n",
            "009  Sinta\n",
            "010  Leonora\n"
          ]
        }
      ],
      "source": [
        "# put your answer here\n",
        "\n",
        "favorite_songs = {\n",
        "    \"001\": \"Nothing\",\n",
        "    \"002\": \"Apocalypse\",\n",
        "    \"003\": \"I wanna be yours\",\n",
        "    \"004\": \"Do I wanna know\",\n",
        "    \"005\": \"Yellow\",\n",
        "    \"006\": \"Fix You\",\n",
        "    \"007\": \"The Shade\",\n",
        "    \"008\": \"Araw-araw\",\n",
        "    \"009\": \"Sinta\",\n",
        "    \"010\": \"Leonora\"\n",
        "}\n",
        "for key, value in favorite_songs.items():\n",
        "    print(f\"{key}  {value}\")"
      ]
    },
    {
      "cell_type": "markdown",
      "metadata": {
        "id": "_VB94A6N1GCP"
      },
      "source": [
        "#### 3. Add one additional song"
      ]
    },
    {
      "cell_type": "code",
      "execution_count": 20,
      "metadata": {
        "id": "8fcQOZCL1GCP",
        "colab": {
          "base_uri": "https://localhost:8080/"
        },
        "outputId": "511f5bb1-93f5-4547-868a-48679bfcfcb4"
      },
      "outputs": [
        {
          "output_type": "stream",
          "name": "stdout",
          "text": [
            "001  Nothing\n",
            "002  Apocalypse\n",
            "003  I wanna be yours\n",
            "004  Do I wanna know\n",
            "005  Yellow\n",
            "006  Fix You\n",
            "007  The Shade\n",
            "008  Araw-araw\n",
            "009  Sinta\n",
            "010  Leonora\n",
            "011  Chasing Pavements\n"
          ]
        }
      ],
      "source": [
        "# put your answer here\n",
        "\n",
        "favorite_songs = {\n",
        "    \"001\": \"Nothing\",\n",
        "    \"002\": \"Apocalypse\",\n",
        "    \"003\": \"I wanna be yours\",\n",
        "    \"004\": \"Do I wanna know\",\n",
        "    \"005\": \"Yellow\",\n",
        "    \"006\": \"Fix You\",\n",
        "    \"007\": \"The Shade\",\n",
        "    \"008\": \"Araw-araw\",\n",
        "    \"009\": \"Sinta\",\n",
        "    \"010\": \"Leonora\",\n",
        "}\n",
        "\n",
        "# Add a new song\n",
        "favorite_songs[\"011\"] = \"Chasing Pavements\"\n",
        "\n",
        "for key, value in favorite_songs.items():\n",
        "    print(f\"{key}  {value}\")"
      ]
    },
    {
      "cell_type": "markdown",
      "metadata": {
        "id": "cv90sZKF1GCQ"
      },
      "source": [
        "#### 4. Remove one song"
      ]
    },
    {
      "cell_type": "code",
      "execution_count": 24,
      "metadata": {
        "id": "ugycbbGz1GCQ",
        "colab": {
          "base_uri": "https://localhost:8080/"
        },
        "outputId": "9f21a996-ea8a-4185-cb5a-eaa63ea8d53f"
      },
      "outputs": [
        {
          "output_type": "stream",
          "name": "stdout",
          "text": [
            "Removed song: Yellow\n",
            "001  Nothing\n",
            "002  Apocalypse\n",
            "003  I wanna be yours\n",
            "004  Do I wanna know\n",
            "006  Fix You\n",
            "007  The Shade\n",
            "008  Araw-araw\n",
            "009  Sinta\n",
            "010  Leonora\n",
            "011  Chasing Pavements\n"
          ]
        }
      ],
      "source": [
        "# put your answer here\n",
        "favorite_songs = {\n",
        "    \"001\": \"Nothing\",\n",
        "    \"002\": \"Apocalypse\",\n",
        "    \"003\": \"I wanna be yours\",\n",
        "    \"004\": \"Do I wanna know\",\n",
        "    \"005\": \"Yellow\",\n",
        "    \"006\": \"Fix You\",\n",
        "    \"007\": \"The Shade\",\n",
        "    \"008\": \"Araw-araw\",\n",
        "    \"009\": \"Sinta\",\n",
        "    \"010\": \"Leonora\",\n",
        "}\n",
        "# Add a new song\n",
        "favorite_songs[\"011\"] = \"Chasing Pavements\"\n",
        "\n",
        "# Remove \"Purple Haze\" from the dictionary\n",
        "removed_song = favorite_songs.pop(\"005\")\n",
        "\n",
        "print(f\"Removed song: {removed_song}\")\n",
        "\n",
        "# Print the updated dictionary\n",
        "for key, value in favorite_songs.items():\n",
        "    print(f\"{key}  {value}\")"
      ]
    },
    {
      "cell_type": "markdown",
      "metadata": {
        "id": "GQgmCA4M1GCR"
      },
      "source": [
        "#### 5. Create a nested dictionary of your 10 favorite songs with 5 genres. Display all of the items of the nested dictionary\n",
        "\n",
        "- Each nested dictionary's key should be the genre of the song\n",
        "- Put each song in their respective genre"
      ]
    },
    {
      "cell_type": "markdown",
      "metadata": {
        "id": "DO3mvlbY1GCS"
      },
      "source": [
        "Example:\n",
        "\n",
        "\n",
        "|KEY|VALUE|\n",
        "|---|---|\n",
        "|Pop|{001, Baby}|\n",
        "|Rock|{001, Enter Sandman}|"
      ]
    },
    {
      "cell_type": "code",
      "execution_count": 26,
      "metadata": {
        "id": "DRXoaiwh1GCS",
        "colab": {
          "base_uri": "https://localhost:8080/"
        },
        "outputId": "004c20cb-4d4e-4ddc-9e92-df64234e58a4"
      },
      "outputs": [
        {
          "output_type": "stream",
          "name": "stdout",
          "text": [
            "Genre: Pop\n",
            "001  Nothing\n",
            "002  Yellow\n",
            "003  Chasing Pavements\n",
            "004  Lover\n",
            "Genre: Rock\n",
            "005  I wanna be yours\n",
            "006  Do I wanna know\n",
            "Genre: Jazz\n",
            "007  The Shade\n",
            "Genre: R&B\n",
            "008  Love\n",
            "Genre: OPM\n",
            "009  Araw-araw\n",
            "010  Sinta\n"
          ]
        }
      ],
      "source": [
        "# put your answer here\n",
        "favorite_songs = {\n",
        "    \"Pop\": {\n",
        "        \"001\": \"Nothing\",\n",
        "        \"002\": \"Yellow\",\n",
        "        \"003\": \"Chasing Pavements\",\n",
        "        \"004\": \"Lover\"\n",
        "    },\n",
        "    \"Rock\": {\n",
        "        \"005\": \"I wanna be yours\",\n",
        "        \"006\": \"Do I wanna know\"\n",
        "    },\n",
        "    \"Jazz\": {\n",
        "        \"007\": \"The Shade\",\n",
        "    },\n",
        "    \"R&B\": {\n",
        "        \"008\": \"Love\"\n",
        "    },\n",
        "    \"OPM\": {\n",
        "        \"009\": \"Araw-araw\",\n",
        "        \"010\": \"Sinta\"\n",
        "    }\n",
        "}\n",
        "\n",
        "for genre, songs in favorite_songs.items():\n",
        "    print(f\"Genre: {genre}\")\n",
        "    for key, value in songs.items():\n",
        "        print(f\"{key}  {value}\")\n"
      ]
    },
    {
      "cell_type": "markdown",
      "metadata": {
        "id": "WZS0Mbzb1GCT"
      },
      "source": [
        "#### 6. Print the first song of the first genre"
      ]
    },
    {
      "cell_type": "code",
      "execution_count": 35,
      "metadata": {
        "id": "ZczqWXkI1GCT",
        "colab": {
          "base_uri": "https://localhost:8080/"
        },
        "outputId": "f35542f5-32ac-40fd-ca37-97d220cd8116"
      },
      "outputs": [
        {
          "output_type": "stream",
          "name": "stdout",
          "text": [
            "The first song in the first genre is: Nothing\n"
          ]
        }
      ],
      "source": [
        "# put your answer here\n",
        "\n",
        "first_genre = list(favorite_songs.keys())[0]\n",
        "first_song = list(favorite_songs[first_genre].values())[0]\n",
        "\n",
        "print(f\"The first song in the first genre is: {first_song}\")\n"
      ]
    },
    {
      "cell_type": "markdown",
      "metadata": {
        "id": "txj2thLC1GCT"
      },
      "source": [
        "#### 7. Print the first song of the last genre"
      ]
    },
    {
      "cell_type": "code",
      "execution_count": 33,
      "metadata": {
        "id": "qIG2c5W71GCU",
        "colab": {
          "base_uri": "https://localhost:8080/"
        },
        "outputId": "33fba0a8-9764-46c1-f74e-04e3f6e1217d"
      },
      "outputs": [
        {
          "output_type": "stream",
          "name": "stdout",
          "text": [
            "The first song in the last genre is: Araw-araw\n"
          ]
        }
      ],
      "source": [
        "# put your answer here\n",
        "\n",
        "last_genre = list(favorite_songs.keys())[-1]  # Get the last genre\n",
        "first_song_last_genre = list(favorite_songs[last_genre].values())[0]\n",
        "\n",
        "print(f\"The first song in the last genre is: {first_song_last_genre}\")\n"
      ]
    }
  ],
  "metadata": {
    "kernelspec": {
      "display_name": "Python 3",
      "language": "python",
      "name": "python3"
    },
    "language_info": {
      "codemirror_mode": {
        "name": "ipython",
        "version": 3
      },
      "file_extension": ".py",
      "mimetype": "text/x-python",
      "name": "python",
      "nbconvert_exporter": "python",
      "pygments_lexer": "ipython3",
      "version": "3.11.4"
    },
    "orig_nbformat": 4,
    "colab": {
      "provenance": [],
      "include_colab_link": true
    }
  },
  "nbformat": 4,
  "nbformat_minor": 0
}