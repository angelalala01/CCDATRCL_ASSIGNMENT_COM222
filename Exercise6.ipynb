{
  "cells": [
    {
      "cell_type": "markdown",
      "metadata": {
        "id": "view-in-github",
        "colab_type": "text"
      },
      "source": [
        "<a href=\"https://colab.research.google.com/github/angelalala01/CCDATRCL_ASSIGNMENT_COM222/blob/main/Exercise6.ipynb\" target=\"_parent\"><img src=\"https://colab.research.google.com/assets/colab-badge.svg\" alt=\"Open In Colab\"/></a>"
      ]
    },
    {
      "cell_type": "markdown",
      "metadata": {
        "id": "UwBVYECnsJPx"
      },
      "source": [
        "# Exercise 6"
      ]
    },
    {
      "cell_type": "markdown",
      "metadata": {
        "id": "4Vztb9bnsJPz"
      },
      "source": [
        "#### Pre-defined code"
      ]
    },
    {
      "cell_type": "code",
      "execution_count": null,
      "metadata": {
        "id": "3axvwXH6sJP0"
      },
      "outputs": [],
      "source": [
        "class Node:\n",
        "    def __init__(self, item):\n",
        "        self.left = None\n",
        "        self.right = None\n",
        "        self.val = item"
      ]
    },
    {
      "cell_type": "code",
      "execution_count": null,
      "metadata": {
        "id": "Ws4eydLgsJP1"
      },
      "outputs": [],
      "source": [
        "def inorder(root):\n",
        "\n",
        "    if root:\n",
        "        # Traverse left\n",
        "        inorder(root.left)\n",
        "        # Traverse root\n",
        "        print(str(root.val) + \"->\", end='')\n",
        "        # Traverse right\n",
        "        inorder(root.right)\n",
        "\n",
        "def postorder(root):\n",
        "\n",
        "    if root:\n",
        "        # Traverse left\n",
        "        postorder(root.left)\n",
        "        # Traverse right\n",
        "        postorder(root.right)\n",
        "        # Traverse root\n",
        "        print(str(root.val) + \"->\", end='')\n",
        "\n",
        "def preorder(root):\n",
        "\n",
        "    if root:\n",
        "        # Traverse root\n",
        "        print(str(root.val) + \"->\", end='')\n",
        "        # Traverse left\n",
        "        preorder(root.left)\n",
        "        # Traverse right\n",
        "        preorder(root.right)"
      ]
    },
    {
      "cell_type": "markdown",
      "metadata": {
        "id": "kKwMHXUIsJP1"
      },
      "source": [
        "#### 1. Construct Create your own company org chart and put yourself as CEO.\n",
        "\n",
        "Using a Tree data structure,\n",
        "\n",
        "- Assign yourself as CEO\n",
        "\n",
        "- Assign any of your classmate as HR Director\n",
        "- Assign any of your classmate as Sales Director\n",
        "\n",
        "- Assign any of your classmate as trainee. His/her boss is the HR Director\n",
        "- Assign any of your classmate as a staff and trainee. Their boss is the Sales Director\n"
      ]
    },
    {
      "cell_type": "markdown",
      "metadata": {
        "id": "aC_8fIk_sJP1"
      },
      "source": [
        "<img src=\"https://thumbs.dreamstime.com/z/cartoon-organization-chart-some-company-93778925.jpg\"/>"
      ]
    },
    {
      "cell_type": "code",
      "execution_count": 52,
      "metadata": {
        "id": "raa-Ac6LsJP2",
        "colab": {
          "base_uri": "https://localhost:8080/"
        },
        "outputId": "0189cb05-e5a4-44fc-cf6f-d681dca31af7"
      },
      "outputs": [
        {
          "output_type": "stream",
          "name": "stdout",
          "text": [
            "Organizational Chart:\n",
            "Angela Maravilla - CEO\n",
            "  Ristian Mabanta - HR Director\n",
            "    John Manalo - Trainee (HR)\n",
            "  Kristel Malubay - Sales Director\n",
            "    Christian Manjares - Staff (Sales)\n",
            "    Jaira Marcial - Trainee (Sales)\n"
          ]
        }
      ],
      "source": [
        "class Employee:\n",
        "    def __init__(self, name, title):\n",
        "        self.name = name\n",
        "        self.title = title\n",
        "        self.children = []\n",
        "\n",
        "    def add_employee(self, employee):\n",
        "        self.children.append(employee)\n",
        "\n",
        "# Create the CEO (You)\n",
        "ceo = Employee(\"Angela Maravilla\", \"CEO\")\n",
        "\n",
        "# Define other employees\n",
        "hr_director = Employee(\"Ristian Mabanta\", \"HR Director\")\n",
        "sales_director = Employee(\"Kristel Malubay\", \"Sales Director\")\n",
        "hr_trainee = Employee(\"John Manalo\", \"Trainee (HR)\")\n",
        "sales_staff = Employee(\"Christian Manjares\", \"Staff (Sales)\")\n",
        "sales_trainee = Employee(\"Jaira Marcial\", \"Trainee (Sales)\")\n",
        "\n",
        "# Build the organizational structure\n",
        "ceo.add_employee(hr_director)\n",
        "ceo.add_employee(sales_director)\n",
        "hr_director.add_employee(hr_trainee)\n",
        "sales_director.add_employee(sales_staff)\n",
        "sales_director.add_employee(sales_trainee)\n",
        "\n",
        "# Define a function to print the organizational chart\n",
        "def print_org_chart(root, level=0):\n",
        "    if root:\n",
        "        print(\"  \" * level + root.name + \" - \" + root.title)\n",
        "        for child in root.children:\n",
        "            print_org_chart(child, level + 1)\n",
        "\n",
        "# Print the organizational chart\n",
        "print_org_chart(ceo)\n"
      ]
    },
    {
      "cell_type": "markdown",
      "metadata": {
        "id": "KzERkwcpsJP2"
      },
      "source": [
        "#### 2. Traverse the tree in in-order traversal"
      ]
    },
    {
      "cell_type": "code",
      "execution_count": 55,
      "metadata": {
        "id": "KLATjCazsJP2",
        "colab": {
          "base_uri": "https://localhost:8080/"
        },
        "outputId": "cb2e3b2a-dea2-48f6-f3c9-66eada693617"
      },
      "outputs": [
        {
          "output_type": "stream",
          "name": "stdout",
          "text": [
            "In-Order Traversal of Organizational Chart:\n",
            "John Manalo - Trainee (HR)\n",
            "Ristian Mabanta - HR Director\n",
            "Angela Maravilla - CEO\n",
            "Christian Manjares - Staff (Sales)\n",
            "Kristel Malubay - Sales Director\n",
            "Jaira Marcial - Trainee (Sales)\n"
          ]
        }
      ],
      "source": [
        "def in_order_traversal(root):\n",
        "    if root:\n",
        "        # Traverse the left subtree\n",
        "        if len(root.children) >= 1:\n",
        "            in_order_traversal(root.children[0])\n",
        "\n",
        "        # Visit the current node\n",
        "        print(root.name, \"-\", root.title)\n",
        "\n",
        "        # Traverse the right subtree\n",
        "        if len(root.children) == 2:\n",
        "            in_order_traversal(root.children[1])\n",
        "\n",
        "# Print the organizational chart in in-order traversal\n",
        "print(\"In-Order Traversal of Organizational Chart:\")\n",
        "in_order_traversal(ceo)\n"
      ]
    },
    {
      "cell_type": "markdown",
      "metadata": {
        "id": "LdHnE_5GsJP2"
      },
      "source": [
        "#### 3. Traverse the tree in pre-order traversal"
      ]
    },
    {
      "cell_type": "code",
      "execution_count": 56,
      "metadata": {
        "id": "kJRwTflesJP2",
        "colab": {
          "base_uri": "https://localhost:8080/"
        },
        "outputId": "c2bfa77d-f0d7-46a7-9846-00a43241e5f2"
      },
      "outputs": [
        {
          "output_type": "stream",
          "name": "stdout",
          "text": [
            "Pre-Order Traversal of Organizational Chart:\n",
            "Angela Maravilla - CEO\n",
            "Ristian Mabanta - HR Director\n",
            "John Manalo - Trainee (HR)\n",
            "Kristel Malubay - Sales Director\n",
            "Christian Manjares - Staff (Sales)\n",
            "Jaira Marcial - Trainee (Sales)\n"
          ]
        }
      ],
      "source": [
        "# put your answer here\n",
        "def pre_order_traversal(root):\n",
        "    if root:\n",
        "        # Visit the current node\n",
        "        print(root.name, \"-\", root.title)\n",
        "\n",
        "        # Traverse the left subtree\n",
        "        if len(root.children) >= 1:\n",
        "            pre_order_traversal(root.children[0])\n",
        "\n",
        "        # Traverse the right subtree\n",
        "        if len(root.children) == 2:\n",
        "            pre_order_traversal(root.children[1])\n",
        "\n",
        "# Print the organizational chart in pre-order traversal\n",
        "print(\"Pre-Order Traversal of Organizational Chart:\")\n",
        "pre_order_traversal(ceo)"
      ]
    },
    {
      "cell_type": "markdown",
      "metadata": {
        "id": "pF2ko8c0sJP3"
      },
      "source": [
        "#### 4. Traverse the tree in post-order traversal"
      ]
    },
    {
      "cell_type": "code",
      "execution_count": 57,
      "metadata": {
        "id": "ZYfbmDotsJP3",
        "colab": {
          "base_uri": "https://localhost:8080/"
        },
        "outputId": "eadffa43-c42d-4c4e-e36f-04eea3adc925"
      },
      "outputs": [
        {
          "output_type": "stream",
          "name": "stdout",
          "text": [
            "Post-Order Traversal of Organizational Chart:\n",
            "John Manalo - Trainee (HR)\n",
            "Ristian Mabanta - HR Director\n",
            "Christian Manjares - Staff (Sales)\n",
            "Jaira Marcial - Trainee (Sales)\n",
            "Kristel Malubay - Sales Director\n",
            "Angela Maravilla - CEO\n"
          ]
        }
      ],
      "source": [
        "# put your answer here\n",
        "def post_order_traversal(root):\n",
        "    if root:\n",
        "        # Traverse the left subtree\n",
        "        if len(root.children) >= 1:\n",
        "            post_order_traversal(root.children[0])\n",
        "\n",
        "        # Traverse the right subtree\n",
        "        if len(root.children) == 2:\n",
        "            post_order_traversal(root.children[1])\n",
        "\n",
        "        # Visit the current node\n",
        "        print(root.name, \"-\", root.title)\n",
        "\n",
        "# Print the organizational chart in post-order traversal\n",
        "print(\"Post-Order Traversal of Organizational Chart:\")\n",
        "post_order_traversal(ceo)\n"
      ]
    }
  ],
  "metadata": {
    "kernelspec": {
      "display_name": "Python 3",
      "language": "python",
      "name": "python3"
    },
    "language_info": {
      "codemirror_mode": {
        "name": "ipython",
        "version": 3
      },
      "file_extension": ".py",
      "mimetype": "text/x-python",
      "name": "python",
      "nbconvert_exporter": "python",
      "pygments_lexer": "ipython3",
      "version": "3.11.4"
    },
    "orig_nbformat": 4,
    "colab": {
      "provenance": [],
      "include_colab_link": true
    }
  },
  "nbformat": 4,
  "nbformat_minor": 0
}